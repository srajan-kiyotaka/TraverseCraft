{
 "cells": [
  {
   "cell_type": "markdown",
   "metadata": {},
   "source": [
    "# Import required modules\n",
    "\n",
    "Let's start by importing the required module form the main library.\n",
    "\n",
    "It's always a good idea to check whether the library is installed or not. The below command will install the library if the library is not already installed."
   ]
  },
  {
   "cell_type": "code",
   "execution_count": 1,
   "metadata": {},
   "outputs": [
    {
     "name": "stdout",
     "output_type": "stream",
     "text": [
      "Looking in indexes: https://test.pypi.org/simple/\n",
      "Requirement already satisfied: TraverseCraft in /media/srajan/Data/Project/LibraryTests/envs/lib/python3.8/site-packages (0.8.5)\n",
      "Requirement already satisfied: prettytable in /media/srajan/Data/Project/LibraryTests/envs/lib/python3.8/site-packages (from TraverseCraft) (0.7.3.dev122)\n"
     ]
    }
   ],
   "source": [
    "!pip install TraverseCraft"
   ]
  },
  {
   "cell_type": "markdown",
   "metadata": {},
   "source": [
    "## Let's import Tree World and Tree Agent\n",
    "we will import the `CreateTreeWorld` class from the `world` module and `TreeAgent` class from the `agent` module.\n",
    "\n",
    "> **Note:** *It is very important to call the right agent for the given world, otherwise the module will through an error. Each world behave differently and each agent is tailored for that world only.*\n",
    "\n",
    "> **Remark:** *Don't worry if during the importing the library prints the OS Type. Actually the library uses some internal variables which are OS depended. It is necessary that the os type printed and your OS type matches. If it does't match please [report this](https://github.com/srajan-kiyotaka/TraverseCraft/issues/new?assignees=&labels=bug&projects=&template=bug_report.md&title=%5BBUG%5D).*"
   ]
  },
  {
   "cell_type": "code",
   "execution_count": 2,
   "metadata": {},
   "outputs": [
    {
     "name": "stdout",
     "output_type": "stream",
     "text": [
      "OS Type: Linux\n"
     ]
    }
   ],
   "source": [
    "from traverseCraft.world import CreateTreeWorld\n",
    "from traverseCraft.agent import TreeAgent"
   ]
  },
  {
   "cell_type": "markdown",
   "metadata": {},
   "source": [
    "# Tree World\n",
    "Let's start with creating a Tree world using the image below. But this time we will not use the default settings and will customize our world.\n",
    "\n",
    "## World Information\n",
    "Before creating the Tree World we have to first create the world blueprint/template. We call this blueprint/template as *world information*. This is like a abstract view of your world.\n",
    "\n",
    "The **world information** will be a dictionary with keys and values as the following:  \n",
    "- `adj`: a dictionary of adjacency list containing each node ID as key and value as a list of ID's of children.\n",
    "- `position`: a dictionary containing each node ID as key and value as a tuple containing position of the node on the world.\n",
    "- `root`: root node ID.\n",
    "- `goals`: a list containing node IDs.\n",
    "\n",
    "These are the mandatory keys, which have to be present in the **world information**.\n",
    "\n",
    "> **Note:** \n",
    "> - *You only have to pass node IDs which can be a `char`, `str`, `int` and the library will use it's internal data nodes to create the tree along with world creation. You can access each node and tree information from the library itself. This will also be helpful if you further want to modify/customize the nodes. The keys mention above in the **world information** are only the necessary key's but there are other keys as well.*\n",
    "> - *The position of each node will be the coordinates. The (0,0) coordinate is you screens top left corner. Please consider drawing the world on a paper before actually writing the world abstract information.*\n",
    "> - *Please refer the [API Reference](https://harrionparrix.github.io/traversecraft/references/world/World.html) section for more information.*\n",
    "> "
   ]
  },
  {
   "cell_type": "code",
   "execution_count": 3,
   "metadata": {},
   "outputs": [],
   "source": [
    "# tree world information\n",
    "treeWorldInfo = {\n",
    "    'adj': {\n",
    "        'A': ['B', 'C', 'D'],\n",
    "        'B': ['E', 'F'],\n",
    "        'C': ['G'],\n",
    "        'D': ['H', 'I'],\n",
    "        'E': [],\n",
    "        'F': ['J'],\n",
    "        'G': [],\n",
    "        'H': [],\n",
    "        'I': ['K'],\n",
    "        'J': [],\n",
    "        'K': []\n",
    "    },\n",
    "    'position': {\n",
    "        'A': (300, 100),\n",
    "        'B': (150, 200),\n",
    "        'C': (300, 200),\n",
    "        'D': (450, 200),\n",
    "        'E': (100, 300),\n",
    "        'F': (190, 300),\n",
    "        'G': (300, 300),\n",
    "        'H': (400, 300),\n",
    "        'I': (500, 300),\n",
    "        'J': (200, 400),\n",
    "        'K': (400, 500)\n",
    "    },\n",
    "    'root': 'A',\n",
    "    'goals': ['K']\n",
    "}"
   ]
  },
  {
   "cell_type": "markdown",
   "metadata": {},
   "source": [
    "> **Note:** *other then the `adj`, `position`, `root`, and `goals`. We also have `edges`, which is a dictionary of edge value(Default each edge is assigned a value of 1) and `vals`, which is a dictionary of node value(Default each node is assigned the value same as its ID).*\n",
    "\n",
    "# Create a Tree World\n",
    "Let's start with creating a Tree world using the image below. But this time we will not use the default settings and will customize our world.\n",
    "\n",
    "<img src='https://github.com/srajan-kiyotaka/TraverseCraft/blob/main/resources/Tree_Advance.png' alt='Tree Abstract View' height=500>\n",
    "\n",
    "We will make the following changes:\n",
    "- `radius`: Controls the size of each node of the tree.\n",
    "- `nodeColor`: Set's the color of all the nodes where the agent can move.\n",
    "- `rootColor`: Set's the color of the root node where the agent will start the simulation.\n",
    "- `goalColor`: Set the color of all the goal states.  \n",
    "- `width`: The windows width.\n",
    "- `height`: The windows height.\n",
    "\n",
    "we will set the following information:\n",
    "- **Radius:** 25\n",
    "- **Node:** green color\n",
    "- **Root:** red color\n",
    "- **Goal:** gray color\n",
    "- **Width:** 720\n",
    "- **Height:** 720"
   ]
  },
  {
   "cell_type": "code",
   "execution_count": 4,
   "metadata": {},
   "outputs": [],
   "source": [
    "# First let's Create a tree world object!\n",
    "treeWorld = CreateTreeWorld(worldName=\"Custom Tree World\", worldInfo=treeWorldInfo, radius=25, nodeColor='green', rootColor='red', goalColor=\"gray\", width=720, height=720)"
   ]
  },
  {
   "cell_type": "markdown",
   "metadata": {},
   "source": [
    "## Compile our Tree World\n",
    "Since, we are sure that we don't want to do any more changes in the world, thus we will compile our world.\n",
    "\n",
    "> **Note:** *Once you compile the world you can't change the structure of the world. So make sure that you do all the changes before compiling the world.*"
   ]
  },
  {
   "cell_type": "code",
   "execution_count": 5,
   "metadata": {},
   "outputs": [],
   "source": [
    "treeWorld.constructWorld()"
   ]
  },
  {
   "cell_type": "markdown",
   "metadata": {},
   "source": [
    "## More About Tree Node\n",
    "You may be wondering how the library is managing the tree data structure, or how can you modify the tree node. \n",
    "\n",
    "The library provide a way to get the pointer of each node Id. You can use the `nodeMap` public variable, which is a dictionary with the keys as the node ID and value as the pointer. \n",
    "\n",
    "> **Note:** The library have a `dataStructures` module which contain the `TreeNode` class. You can use this class to modify further according to your needs.\n",
    "\n",
    "### Let's see information of some of the Tree Nodes.\n",
    "\n",
    "To get a general information of any tree node we can simple use the `print()` statement. "
   ]
  },
  {
   "cell_type": "code",
   "execution_count": 6,
   "metadata": {},
   "outputs": [
    {
     "name": "stdout",
     "output_type": "stream",
     "text": [
      "Information of node B\n",
      "Tree Node Id: B \n",
      "Children: ['E', 'F'] \n",
      "Value: B \n",
      "Goal State: False \n",
      "Edges: [1, 1] \n",
      "Heat Map Value: 0\n",
      "------------------------------\n",
      "Information of node K\n",
      "Tree Node Id: K \n",
      "Children: [] \n",
      "Value: K \n",
      "Goal State: True \n",
      "Edges: [] \n",
      "Heat Map Value: 0\n"
     ]
    }
   ],
   "source": [
    "# Normal node\n",
    "normalNode = treeWorld.nodeMap['B']\n",
    "print(\"Information of node B\")\n",
    "print(normalNode)\n",
    "\n",
    "print(\"-\"*30)\n",
    "\n",
    "# Goal node\n",
    "goalNode = treeWorld.nodeMap['K']\n",
    "print(\"Information of node K\")\n",
    "print(goalNode)"
   ]
  },
  {
   "cell_type": "markdown",
   "metadata": {},
   "source": [
    "> **Note:** *Here, you can see what information the `TreeNode` stores. except `Heat Map Value` other information are self explanatory, the `Heat Map Value` actually stores the number of time the node is been visited by any agent.*\n",
    "\n",
    "### Let's see some basic information about our *Tree World*!\n",
    "you can use a simple `print()` statement or you can use the builtin function `aboutWorld()` to get the world information as a string."
   ]
  },
  {
   "cell_type": "code",
   "execution_count": 7,
   "metadata": {},
   "outputs": [
    {
     "name": "stdout",
     "output_type": "stream",
     "text": [
      "+-------------------------+-------------------+\n",
      "|        Attribute        |       Value       |\n",
      "+-------------------------+-------------------+\n",
      "|        World Name       | Custom Tree World |\n",
      "|       Root Node ID      |         A         |\n",
      "|        Goal Nodes       |       ['K']       |\n",
      "|          Width          |        720        |\n",
      "|          Height         |        720        |\n",
      "|       Node Radius       |         25        |\n",
      "|        Font Size        |         12        |\n",
      "|        Font Bold        |        True       |\n",
      "|       Font Italic       |        True       |\n",
      "|        Node Color       |       green       |\n",
      "|        Goal Color       |        gray       |\n",
      "|      Line Thickness     |         2         |\n",
      "|       Arrow Shape       |    (10, 12, 5)    |\n",
      "| Button Background Color |      #7FC7D9      |\n",
      "| Button Foreground Color |      #332941      |\n",
      "|        Text Font        |     Helvetica     |\n",
      "|        Text Size        |         24        |\n",
      "|       Text Weight       |        bold       |\n",
      "|       Button Text       |    Start Agent    |\n",
      "+-------------------------+-------------------+\n"
     ]
    }
   ],
   "source": [
    "print(treeWorld)"
   ]
  },
  {
   "cell_type": "markdown",
   "metadata": {},
   "source": [
    "## Help\n",
    "If you want to know more information about any method, or variable, you can simple use the `help()` function to get more information. Or you can visit our official [website](https://harrionparrix.github.io/traversecraft/index.html) to get more information."
   ]
  },
  {
   "cell_type": "code",
   "execution_count": 8,
   "metadata": {},
   "outputs": [
    {
     "name": "stdout",
     "output_type": "stream",
     "text": [
      "Help on CreateTreeWorld in module traverseCraft.world object:\n",
      "\n",
      "class CreateTreeWorld(builtins.object)\n",
      " |  CreateTreeWorld(worldName: str, worldInfo: dict, radius: int = 20, fontSize: int = 12, fontBold: bool = True, fontItalic: bool = True, nodeColor: str = 'gray', rootColor: str = 'red', goalColor: str = 'green', width: int = 3286, height: int = 1080, lineThickness: int = 2, arrowShape: tuple = (10, 12, 5), buttonBgColor: str = '#7FC7D9', buttonFgColor: str = '#332941', textFont: str = 'Helvetica', textSize: int = 24, textWeight: str = 'bold', buttonText: str = 'Start Agent', logoPath: str = None)\n",
      " |  \n",
      " |  Class representing a tree world.\n",
      " |  \n",
      " |  Parameters:\n",
      " |      - worldName (str): The name of the world.\n",
      " |      - worldInfo (dict): A dictionary containing information about the world.\n",
      " |          - 'root' (str): The ID of the root node.\n",
      " |          - 'goals' (list): List of goal node IDs.\n",
      " |          - 'adj' (dict): Adjacency list representing tree connections.\n",
      " |          - 'position' (dict): Dictionary of node positions with node IDs as keys.\n",
      " |          - 'edges' (dict, optional): Dictionary of edge information. Default is None.\n",
      " |          - 'vals' (dict, optional): Dictionary of node values. Default is None.\n",
      " |      - radius (int): The radius of the nodes in the world visualization. Default is 20.\n",
      " |      - fontSize (int): The font size of the node labels. Default is 12.\n",
      " |      - fontBold (bool): Whether to use bold font for the node labels. Default is True.\n",
      " |      - fontItalic (bool): Whether to use italic font for the node labels. Default is True.\n",
      " |      - nodeColor (str): The color of the nodes. Default is \"gray\".\n",
      " |      - rootColor (str): The color of the root node. Default is \"red\".\n",
      " |      - goalColor (str): The color of the goal nodes. Default is \"green\".\n",
      " |      - width (int): The width of the world visualization canvas. Default is SCREEN_WIDTH.\n",
      " |      - height (int): The height of the world visualization canvas. Default is SCREEN_HEIGHT.\n",
      " |      - lineThickness (int): The thickness of the lines connecting the nodes. Default is 2.\n",
      " |      - arrowShape (tuple): The shape of the arrows indicating the direction of the edges. Default is (10, 12, 5).\n",
      " |      - buttonBgColor (str): The background color of the buttons. Default is \"#7FC7D9\".\n",
      " |      - buttonFgColor (str): The foreground color of the buttons. Default is \"#332941\".\n",
      " |      - textFont (str): The font family of the button text. Default is \"Helvetica\".\n",
      " |      - textSize (int): The font size of the button text. Default is 24.\n",
      " |      - textWeight (str): The font weight of the button text. Default is \"bold\".\n",
      " |      - buttonText (str): The text displayed on the buttons. Default is \"Start Agent\".\n",
      " |      - logoPath (str, optional): The file path to the logo image. Default is traverseCraft logo.\n",
      " |  \n",
      " |  Attributes:\n",
      " |      - worldID (str): Class identifier for the tree world.\n",
      " |      - _worldName (str): The name of the world.\n",
      " |      - _worldInfo (dict): Dictionary containing the world's information.\n",
      " |      - _treeRootId (str): The ID of the root node.\n",
      " |      - _goalIds (list): List of goal node IDs.\n",
      " |      - _position (dict): Dictionary of node positions.\n",
      " |      - _width (int): The width of the visualization canvas.\n",
      " |      - _height (int): The height of the visualization canvas.\n",
      " |      - _radius (int): The radius of the nodes.\n",
      " |      - _nodeColor (str): The color of the nodes.\n",
      " |      - _rootColor (str): The color of the root node.\n",
      " |      - _goalColor (str): The color of the goal nodes.\n",
      " |      - _fontSize (int): The font size of the node labels.\n",
      " |      - _fontBold (bool): Whether the node labels are bold.\n",
      " |      - _fontItalic (bool): Whether the node labels are italic.\n",
      " |      - _lineThickness (int): The thickness of the lines connecting the nodes.\n",
      " |      - _arrowShape (tuple): The shape of the arrows indicating the direction of the edges.\n",
      " |      - _logoPath (str): The file path to the logo image.\n",
      " |      - _root (Tk): The root Tkinter object.\n",
      " |      - _canvas (Canvas): The canvas object for drawing the world.\n",
      " |      - nodeMap (dict): Dictionary mapping node IDs to canvas objects.\n",
      " |      - root: The root of the tree data structure.\n",
      " |      - _agent: The agent in the world.\n",
      " |      - _nodeObj (dict): Dictionary mapping node IDs to node objects.\n",
      " |      - _nodeTextObj (dict): Dictionary mapping node IDs to node label objects.\n",
      " |      - _buttonBgColor (str): The background color of the buttons.\n",
      " |      - _buttonFgColor (str): The foreground color of the buttons.\n",
      " |      - _buttonText (str): The text displayed on the buttons.\n",
      " |      - _textFont (str): The font family of the button text.\n",
      " |      - _textSize (int): The font size of the button text.\n",
      " |      - _textWeight (str): The font weight of the button text.\n",
      " |  \n",
      " |  Methods defined here:\n",
      " |  \n",
      " |  __init__(self, worldName: str, worldInfo: dict, radius: int = 20, fontSize: int = 12, fontBold: bool = True, fontItalic: bool = True, nodeColor: str = 'gray', rootColor: str = 'red', goalColor: str = 'green', width: int = 3286, height: int = 1080, lineThickness: int = 2, arrowShape: tuple = (10, 12, 5), buttonBgColor: str = '#7FC7D9', buttonFgColor: str = '#332941', textFont: str = 'Helvetica', textSize: int = 24, textWeight: str = 'bold', buttonText: str = 'Start Agent', logoPath: str = None)\n",
      " |      Initializes the Tree World.\n",
      " |  \n",
      " |  __str__(self)\n",
      " |      Describes the attributes of the world.\n",
      " |      \n",
      " |      Parameters:\n",
      " |          None\n",
      " |      \n",
      " |      Returns:\n",
      " |          str: The attributes of the world.\n",
      " |  \n",
      " |  aboutWorld(self)\n",
      " |      Describes the attributes of the world.\n",
      " |      \n",
      " |      Parameters:\n",
      " |          None\n",
      " |      \n",
      " |      Returns:\n",
      " |          str: The attributes of the world.\n",
      " |  \n",
      " |  changeNodeColor(self, nodeId, color)\n",
      " |      Changes the color of a node in the tree.\n",
      " |      \n",
      " |      Parameters:\n",
      " |          nodeId (int): The ID of the node to change the color of.\n",
      " |          color (str): The new color to set for the node.\n",
      " |      \n",
      " |      Returns:\n",
      " |          None\n",
      " |  \n",
      " |  changeNodeText(self, nodeId, newText)\n",
      " |      Changes the text of a node in the tree.\n",
      " |      \n",
      " |      Parameters:\n",
      " |          nodeId (int): The ID of the node to change the text of.\n",
      " |          newText (str): The new text to set for the node.\n",
      " |      \n",
      " |      Returns:\n",
      " |  \n",
      " |  constructWorld(self)\n",
      " |      Constructs the tree world.\n",
      " |      \n",
      " |      Parameters:\n",
      " |          self (World): The World instance.\n",
      " |      \n",
      " |      Returns:\n",
      " |          None\n",
      " |  \n",
      " |  getNode(self, nodeId)\n",
      " |      Returns the pointer to the node with the given nodeId.\n",
      " |      \n",
      " |      Parameters:\n",
      " |          nodeId: The ID of the node to retrieve the pointer for.\n",
      " |      \n",
      " |      Returns:\n",
      " |          Node: The pointer to the node with the given nodeId.\n",
      " |  \n",
      " |  setAgent(self, agent)\n",
      " |      Set the agent for the world.\n",
      " |      \n",
      " |      Parameters:\n",
      " |          agent (Agent): The agent to be set.\n",
      " |      \n",
      " |      Returns:\n",
      " |          None\n",
      " |  \n",
      " |  showWorld(self)\n",
      " |      Displays the world.\n",
      " |      \n",
      " |      Parameters:\n",
      " |          None\n",
      " |      Returns:\n",
      " |          None\n",
      " |  \n",
      " |  summary(self)\n",
      " |      Generates a summary of the world.\n",
      " |      \n",
      " |      Parameters:\n",
      " |          None\n",
      " |          \n",
      " |      Returns:\n",
      " |          str: The summary of the world.\n",
      " |  \n",
      " |  ----------------------------------------------------------------------\n",
      " |  Data descriptors defined here:\n",
      " |  \n",
      " |  __dict__\n",
      " |      dictionary for instance variables (if defined)\n",
      " |  \n",
      " |  __weakref__\n",
      " |      list of weak references to the object (if defined)\n",
      " |  \n",
      " |  ----------------------------------------------------------------------\n",
      " |  Data and other attributes defined here:\n",
      " |  \n",
      " |  worldID = 'TREEWORLD'\n",
      "\n"
     ]
    }
   ],
   "source": [
    "help(treeWorld)"
   ]
  },
  {
   "cell_type": "markdown",
   "metadata": {},
   "source": [
    "# Let's create our agent which will interact with the world.\n",
    "We will create a tree agent with the following custom settings.\n",
    "- `agentColor`: set the color of the node where the agent is present.\n",
    "- `heatMapView`: set True or False to decide whether to see the heatmap in realtime in simulation or not.\n",
    "\n",
    "we will set the values to the following:\n",
    "- **agentColor:** aqua\n",
    "- **heatMapView:** False(to only see the simulation)"
   ]
  },
  {
   "cell_type": "code",
   "execution_count": 9,
   "metadata": {},
   "outputs": [],
   "source": [
    "treeAgent = TreeAgent(agentName=\"Tree Agent\", world=treeWorld, agentColor=\"aqua\", heatMapView=False)"
   ]
  },
  {
   "cell_type": "markdown",
   "metadata": {},
   "source": [
    "## Let's see some basic information about our Tree Agent.\n",
    "you can use a simple `print()` statement or you can use the builtin function `aboutAgent()` to get the agent information as a string."
   ]
  },
  {
   "cell_type": "code",
   "execution_count": 10,
   "metadata": {},
   "outputs": [
    {
     "name": "stdout",
     "output_type": "stream",
     "text": [
      "+--------------+-------------------+\n",
      "|  Attribute   |       Value       |\n",
      "+--------------+-------------------+\n",
      "|  Agent Name  |     Tree Agent    |\n",
      "| Agent Color  |        aqua       |\n",
      "|  World Name  | Custom Tree World |\n",
      "|   World ID   |     TREEWORLD     |\n",
      "| Root Node ID |         A         |\n",
      "+--------------+-------------------+\n"
     ]
    }
   ],
   "source": [
    "print(treeAgent)"
   ]
  },
  {
   "cell_type": "markdown",
   "metadata": {},
   "source": [
    "# Connect Our Agent with the World\n",
    "Now, we have our world ready and constructed and we also have our agent ready, but the world doesn't know the agent and the agent does't know the world. We have to connect the agent with the world. We will use the `.setAgent()` method of the world to connect the agent with the world. "
   ]
  },
  {
   "cell_type": "code",
   "execution_count": 11,
   "metadata": {},
   "outputs": [],
   "source": [
    "treeWorld.setAgent(treeAgent)"
   ]
  },
  {
   "cell_type": "markdown",
   "metadata": {},
   "source": [
    "# Algorithm\n",
    "Now, we have connected the agent with the world, but we did not told the agent what to do in the world.\n",
    "\n",
    "The agent have a method `setAlgorithmCallBack()` which takes a function as a argument.\n",
    "This function will be run during the simulation.\n",
    "> **Note:** *Make sure that the function you are passing in the `setAlgorithmCallBack()` method does not take any argument.*\n",
    "\n",
    "## Let's first create our Algorithm that will move the agent.\n",
    "We will write a simple DFS algorithm to move our agent, and our main goal will be to get to any goal state.\n",
    "\n",
    "### Some Useful methods\n",
    "- `checkGoalState()` method is use to check whether the given node ID is a goal state or not.\n",
    "- `moveAgent()` this method will return False if it is not possible to move the agent to the given node ID or will move the agent and return True if it is possible. We can also control the delay in the movement using the `delay` parameter.\n",
    "\n",
    "#### DFS Algorithm"
   ]
  },
  {
   "cell_type": "code",
   "execution_count": 12,
   "metadata": {},
   "outputs": [],
   "source": [
    "def dfs(nodeId, agent):\n",
    "    if agent.checkGoalState(nodeId):\n",
    "        return True\n",
    "    for child in treeWorld.nodeMap[nodeId].children:\n",
    "        agent.moveAgent(child.id)\n",
    "        if dfs(child.id, agent):\n",
    "            return True\n",
    "        agent.moveAgent(nodeId)\n",
    "    return False"
   ]
  },
  {
   "cell_type": "markdown",
   "metadata": {},
   "source": [
    "### We will use the dfs Algorithm in the main callback function\n",
    "> **Remember:** *Since the call back function will only accept a function with no arguments, thus it is always a good idea to create another function which takes the arguments and use that function in the call back function.*"
   ]
  },
  {
   "cell_type": "code",
   "execution_count": 13,
   "metadata": {},
   "outputs": [],
   "source": [
    "def toDo():\n",
    "    print(\"Agent Started moving around the world!\")\n",
    "    if(dfs(treeWorld.root.id, treeAgent)):\n",
    "        print(\"Agent reached the goal state!\")\n",
    "    else:\n",
    "        print(\"Agent could not reach the goal state!\")"
   ]
  },
  {
   "cell_type": "markdown",
   "metadata": {},
   "source": [
    "### We are ready with our algorithm\n",
    "Lets set the algorithm to tell the agent what to do. "
   ]
  },
  {
   "cell_type": "code",
   "execution_count": 14,
   "metadata": {},
   "outputs": [],
   "source": [
    "treeAgent.setAlgorithmCallBack(toDo)"
   ]
  },
  {
   "cell_type": "markdown",
   "metadata": {},
   "source": [
    "# Display the world and Start the Simulation!\n",
    "Now, we are all set. We will first show the world using the `showWorld()` method and then on the world there is a button at the bottom to start the simulation.\n",
    "\n",
    "> **Warning:** *Always make sure that the method `showWorld()` is called when you are ready to simulate, because after this no change can be made on the world or the agent.*"
   ]
  },
  {
   "cell_type": "code",
   "execution_count": 15,
   "metadata": {},
   "outputs": [
    {
     "name": "stdout",
     "output_type": "stream",
     "text": [
      "Agent Started moving around the world!\n",
      "Agent reached the goal state!\n"
     ]
    }
   ],
   "source": [
    "treeWorld.showWorld()"
   ]
  },
  {
   "cell_type": "markdown",
   "metadata": {},
   "source": [
    "In the window You can see that, this time no heatmap is forming where the agent is going. This happened because we switch off this feature also by simple changing the value of `heatMapView` to `False` during the tree agent object creation.\n",
    "\n",
    "You can also see there is a slight delay in the movement of the agent, this is also a feature of agent, you can control the delay while calling the `moveAgent` method by the parameter `delay`.\n",
    "\n",
    "## Let's see the summary\n",
    "\n",
    "The agent and the world keep some records, that we can generate and see.\n",
    "\n",
    "### The Agent have information about the time taken to run the whole simulation.\n",
    "We can see this information using the `summary` method."
   ]
  },
  {
   "cell_type": "code",
   "execution_count": 16,
   "metadata": {},
   "outputs": [
    {
     "name": "stdout",
     "output_type": "stream",
     "text": [
      "+--------------+---------------------------+\n",
      "|  Attribute   |           Value           |\n",
      "+--------------+---------------------------+\n",
      "|  Start Time  | Wed, 19 Jun 2024 18:11:47 |\n",
      "|   End Time   | Wed, 19 Jun 2024 18:12:04 |\n",
      "| Elapsed Time |         17.053 sec        |\n",
      "+--------------+---------------------------+\n"
     ]
    }
   ],
   "source": [
    "print(treeAgent.summary())"
   ]
  },
  {
   "cell_type": "markdown",
   "metadata": {},
   "source": [
    "### The World have information about the visited count after the whole simulation.\n",
    "We can see this information using the `summary` method."
   ]
  },
  {
   "cell_type": "code",
   "execution_count": 17,
   "metadata": {},
   "outputs": [
    {
     "name": "stdout",
     "output_type": "stream",
     "text": [
      "+---------+------------------+\n",
      "| Node ID | Number of Visits |\n",
      "+---------+------------------+\n",
      "|    A    |        3         |\n",
      "|    B    |        3         |\n",
      "|    C    |        2         |\n",
      "|    D    |        2         |\n",
      "|    E    |        1         |\n",
      "|    F    |        2         |\n",
      "|    G    |        1         |\n",
      "|    H    |        1         |\n",
      "|    I    |        1         |\n",
      "|    J    |        1         |\n",
      "|    K    |        1         |\n",
      "+---------+------------------+\n"
     ]
    }
   ],
   "source": [
    "print(treeWorld.summary())"
   ]
  },
  {
   "cell_type": "markdown",
   "metadata": {},
   "source": [
    "## Help\n",
    "If you want to know more information about any method, or variable, you can simple use the `help()` function to get more information. Or you can visit our official [website](https://harrionparrix.github.io/traversecraft/index.html) to get more information."
   ]
  },
  {
   "cell_type": "code",
   "execution_count": 18,
   "metadata": {},
   "outputs": [
    {
     "name": "stdout",
     "output_type": "stream",
     "text": [
      "Help on TreeAgent in module traverseCraft.agent object:\n",
      "\n",
      "class TreeAgent(builtins.object)\n",
      " |  TreeAgent(world, agentName: str, agentColor: str = 'blue', heatMapView: bool = True, heatMapColor: str = '#FFA732', heatGradient: float = 0.05)\n",
      " |  \n",
      " |  The Tree Agent class.\n",
      " |  \n",
      " |  Parameters:\n",
      " |      world (CreateTreeWorld): The world object that the agent belongs to.\n",
      " |      agentName (str): The name of the agent.\n",
      " |      agentColor (str, optional): The color of the agent. Defaults to \"blue\".\n",
      " |      heatMapView (bool, optional): Flag indicating whether to enable heat map view. Defaults to True.\n",
      " |      heatMapColor (str, optional): The color of the heat map. Defaults to \"#FFA732\".\n",
      " |      heatGradient (float, optional): The gradient of the heat map. Defaults to 0.05.\n",
      " |  \n",
      " |  Attributes:\n",
      " |      _worldObj (CreateTreeWorld): The tree world object.\n",
      " |      _worldID (str): The ID of the world.\n",
      " |      _root (Tk): The root Tkinter object from the tree world.\n",
      " |      _agentName (str): The name of the agent.\n",
      " |      _agentColor (str): The color of the agent.\n",
      " |      _heatMapView (bool): Indicates if the heat map view is enabled.\n",
      " |      _heatMapColor (str): The color of the heat map.\n",
      " |      _heatMapBaseColor (str): The base color of the heat map.\n",
      " |      _heatGradient (float): The gradient value for the heat map.\n",
      " |      _treeRoot (TreeNode): The root node of the tree.\n",
      " |      _currentNode (TreeNode): The current node the agent is on.\n",
      " |      algorithmCallBack (function): Callback function for the agent's algorithm.\n",
      " |      _startTime (float): The start time of the agent.\n",
      " |      _endTime (float): The end time of the agent.\n",
      " |  \n",
      " |  Methods defined here:\n",
      " |  \n",
      " |  __init__(self, world, agentName: str, agentColor: str = 'blue', heatMapView: bool = True, heatMapColor: str = '#FFA732', heatGradient: float = 0.05)\n",
      " |      Initialize self.  See help(type(self)) for accurate signature.\n",
      " |  \n",
      " |  __str__(self)\n",
      " |      Describes the attributes of the world.\n",
      " |      \n",
      " |      Parameters:\n",
      " |          None\n",
      " |      \n",
      " |      Returns:\n",
      " |          function(): The attributes of the world.\n",
      " |  \n",
      " |  aboutAgent(self)\n",
      " |      Prints information about the agent.\n",
      " |      \n",
      " |      Parameters:\n",
      " |          None\n",
      " |      \n",
      " |      Returns:\n",
      " |          str: A string containing information about the agent.\n",
      " |  \n",
      " |  checkGoalState(self, nodeId)\n",
      " |      Check if the given node is a goal state.\n",
      " |      \n",
      " |      Parameters:\n",
      " |      - nodeId: The node Id to be checked.\n",
      " |      \n",
      " |      Returns:\n",
      " |      - True if the node is a goal state, False otherwise.\n",
      " |  \n",
      " |  getHeatMapColor(self, value: float)\n",
      " |      Returns the color for a given value on a heat map.\n",
      " |      \n",
      " |      Parameters:\n",
      " |          value (float): The value to map to a color on the heat map.\n",
      " |      \n",
      " |      Returns:\n",
      " |          tuple: The RGB color value for the given value on the heat map.\n",
      " |  \n",
      " |  moveAgent(self, nodeId, delay: int = 1)\n",
      " |      Moves the agent to the specified node.\n",
      " |      \n",
      " |      Args:\n",
      " |          nodeId: The node Id to which the agent should be moved.\n",
      " |          delay (optional): The delay (in seconds) before moving to the next node. Default is 1 second.\n",
      " |      \n",
      " |      Returns:\n",
      " |          bool: True if the agent was successfully moved to the node, False otherwise.\n",
      " |  \n",
      " |  runAlgorithm(self)\n",
      " |      Executes the algorithm callback function.\n",
      " |      \n",
      " |      Raises:\n",
      " |          ValueError: If the algorithm callback function is not set.\n",
      " |  \n",
      " |  setAlgorithmCallBack(self, algorithmCallBack)\n",
      " |      Set the callback function for the algorithm.\n",
      " |      \n",
      " |      Parameters:\n",
      " |          algorithmCallBack (function): The callback function to be set.\n",
      " |      \n",
      " |      Returns:\n",
      " |          None\n",
      " |  \n",
      " |  summary(self)\n",
      " |      Returns a summary of the agent run.\n",
      " |      \n",
      " |      Returns:\n",
      " |          str: A summary of the agent run.\n",
      " |  \n",
      " |  ----------------------------------------------------------------------\n",
      " |  Data descriptors defined here:\n",
      " |  \n",
      " |  __dict__\n",
      " |      dictionary for instance variables (if defined)\n",
      " |  \n",
      " |  __weakref__\n",
      " |      list of weak references to the object (if defined)\n",
      "\n"
     ]
    }
   ],
   "source": [
    "help(treeAgent)"
   ]
  },
  {
   "cell_type": "markdown",
   "metadata": {},
   "source": [
    "This covers all the required features and knowledge required to create simulations for Tree World.\n",
    "\n",
    "Next, please refer the [API Reference](https://harrionparrix.github.io/traversecraft/references/world/World.html) section for more details regarding each class and methods.\n",
    "\n",
    "Thanks!"
   ]
  }
 ],
 "metadata": {
  "kernelspec": {
   "display_name": "Python 3",
   "language": "python",
   "name": "python3"
  },
  "language_info": {
   "codemirror_mode": {
    "name": "ipython",
    "version": 3
   },
   "file_extension": ".py",
   "mimetype": "text/x-python",
   "name": "python",
   "nbconvert_exporter": "python",
   "pygments_lexer": "ipython3",
   "version": "3.8.19"
  }
 },
 "nbformat": 4,
 "nbformat_minor": 2
}
