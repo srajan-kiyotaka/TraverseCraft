{
 "cells": [
  {
   "cell_type": "markdown",
   "metadata": {},
   "source": [
    "# Import required modules\n",
    "\n",
    "Let's start by importing the required module form the main library.\n",
    "\n",
    "It's always a good idea to check whether the library is installed or not. The below command will install the library if the library is not already installed."
   ]
  },
  {
   "cell_type": "code",
   "execution_count": 1,
   "metadata": {},
   "outputs": [
    {
     "name": "stdout",
     "output_type": "stream",
     "text": [
      "Looking in indexes: https://test.pypi.org/simple/\n",
      "Requirement already satisfied: TraverseCraft in /media/srajan/Data/Project/LibraryTests/envs/lib/python3.8/site-packages (0.9.0)\n",
      "Requirement already satisfied: prettytable in /media/srajan/Data/Project/LibraryTests/envs/lib/python3.8/site-packages (from TraverseCraft) (0.7.3.dev122)\n"
     ]
    }
   ],
   "source": [
    "!pip install -i https://test.pypi.org/simple/ TraverseCraft"
   ]
  },
  {
   "cell_type": "markdown",
   "metadata": {},
   "source": [
    "## Let's import Graph World and Graph Agent\n",
    "we will import the `CreateGraphWorld` class from the `world` module and `GraphAgent` class from the `agent` module.\n",
    "\n",
    "> **Note:** *It is very important to call the right agent for the given world, otherwise the module will through an error. Each world behave differently and each agent is tailored for that world only.*\n",
    "\n",
    "> **Remark:** *Don't worry if during the importing the library prints the OS Type. Actually the library uses some internal variables which are OS depended. It is necessary that the OS type printed and your OS type matches. If it does't match please [report this](https://github.com/srajan-kiyotaka/TraverseCraft/issues/new?assignees=&labels=bug&projects=&template=bug_report.md&title=%5BBUG%5D).*"
   ]
  },
  {
   "cell_type": "code",
   "execution_count": 2,
   "metadata": {},
   "outputs": [
    {
     "name": "stdout",
     "output_type": "stream",
     "text": [
      "OS Type: Linux\n"
     ]
    }
   ],
   "source": [
    "from traverseCraft.world import CreateGraphWorld\n",
    "from traverseCraft.agent import GraphAgent"
   ]
  },
  {
   "cell_type": "markdown",
   "metadata": {},
   "source": [
    "# Hello Graph World\n",
    "Let's start with a simple *Hello Graph World* program to get familiarize with the library.\n",
    "\n",
    "We will create a simple Graph as shown below with the default settings on.\n",
    "\n",
    "## World Information\n",
    "Before creating the Graph World we have to first create the world blueprint/template. We call this blueprint/template as *world information*. This is like a abstract view of your world.\n",
    "\n",
    "The **world information** will be a dictionary with keys and values as the following:  \n",
    "- `adj`: a dictionary of adjacency list containing each node ID as key and value as a list of ID's of neighbors.\n",
    "- `position`: a dictionary containing each node ID as key and value as a tuple containing position of the node on the world.\n",
    "- `goals`: a list containing node IDs.\n",
    "\n",
    "These are the mandatory keys, which have to be present in the **world information**.\n",
    "\n",
    "> **Note:** \n",
    "> - *You only have to pass node IDs which can be a `char`, `str`, `int` and the library will use it's internal data nodes to create the Graph along with world creation. You can access each node and Graph information from the library itself. This will also be helpful if you further want to modify/customize the nodes. The keys mention above in the **world information** are only the necessary key's but there are other keys as well.*\n",
    "> - *The position of each node will be the coordinates. The (0,0) coordinate is you screens top left corner. Please consider drawing the world on a paper before actually writing the world abstract information.*\n",
    "> - *Please refer the [API Reference](https://harrionparrix.github.io/traversecraft/references/world/World.html) section for more information.*\n",
    "> "
   ]
  },
  {
   "cell_type": "code",
   "execution_count": 3,
   "metadata": {},
   "outputs": [],
   "source": [
    "# graph world information\n",
    "graphWorldInfo = {\n",
    "    'adj': {\n",
    "        'A': ['B', 'C'],\n",
    "        'B': ['C', 'D', 'E'],\n",
    "        'C': ['B', 'F'],\n",
    "        'D': ['E'],\n",
    "        'E': ['F', 'G'],\n",
    "        'F': ['E', 'G'],\n",
    "        'G': []\n",
    "    },\n",
    "    'position': {\n",
    "        'A': (100, 200),\n",
    "        'B': (200, 100),\n",
    "        'C': (200, 300),\n",
    "        'D': (300, 200),\n",
    "        'E': (400, 100),\n",
    "        'F': (400, 300),\n",
    "        'G': (500, 200)\n",
    "    },\n",
    "    'goals': ['G']\n",
    "}"
   ]
  },
  {
   "cell_type": "markdown",
   "metadata": {},
   "source": [
    "> **Remark:** *you can see that we are only using the abstract information and passing this information to the library. The rest will be taken care by the library like the actual tree data structure creation, world creation etc. this will help the user to save a lot of time and in return help the user to be more creative and allow the user to make complex world easily with only the abstract information.*\n",
    "\n",
    "## Create our Hello Graph World\n",
    "Now, we have our world abstract information, we will pass this information to create the Graph world object."
   ]
  },
  {
   "cell_type": "code",
   "execution_count": 4,
   "metadata": {},
   "outputs": [],
   "source": [
    "# First let's Create a Graph world object!\n",
    "graphWorld = CreateGraphWorld(worldName=\"Hello World\", worldInfo=graphWorldInfo)"
   ]
  },
  {
   "cell_type": "markdown",
   "metadata": {},
   "source": [
    "## Compile our Hello Graph World\n",
    "since, we are just creating a simple Graph world with all the default settings, we are ready to compile our world.\n",
    "\n",
    "> **Note:** *Once you compile the world you can't change the structure of the world. So make sure that you do all the changes before compiling the world.*"
   ]
  },
  {
   "cell_type": "code",
   "execution_count": 5,
   "metadata": {},
   "outputs": [],
   "source": [
    "graphWorld.constructWorld()"
   ]
  },
  {
   "cell_type": "markdown",
   "metadata": {},
   "source": [
    "### Let's see some basic information about our *Hello World*!\n",
    "you can use a simple `print()` statement or you can use the builtin function `aboutWorld()` to get the world information as a string."
   ]
  },
  {
   "cell_type": "code",
   "execution_count": 6,
   "metadata": {},
   "outputs": [
    {
     "name": "stdout",
     "output_type": "stream",
     "text": [
      "+-------------------------+-------------+\n",
      "|        Attribute        |    Value    |\n",
      "+-------------------------+-------------+\n",
      "|        World Name       | Hello World |\n",
      "|        Goal Nodes       |    ['G']    |\n",
      "|          Width          |     3286    |\n",
      "|          Height         |     1080    |\n",
      "|       Node Radius       |      20     |\n",
      "|        Font Size        |      12     |\n",
      "|        Font Bold        |     True    |\n",
      "|       Font Italic       |     True    |\n",
      "|        Node Color       |     gray    |\n",
      "|        Goal Color       |    green    |\n",
      "|      Line Thickness     |      2      |\n",
      "|       Arrow Shape       | (10, 12, 5) |\n",
      "| Button Background Color |   #7FC7D9   |\n",
      "| Button Foreground Color |   #332941   |\n",
      "|        Text Font        |  Helvetica  |\n",
      "|        Text Size        |      24     |\n",
      "|       Text Weight       |     bold    |\n",
      "|       Button Text       | Start Agent |\n",
      "+-------------------------+-------------+\n"
     ]
    }
   ],
   "source": [
    "print(graphWorld)"
   ]
  },
  {
   "cell_type": "code",
   "execution_count": 7,
   "metadata": {},
   "outputs": [
    {
     "name": "stdout",
     "output_type": "stream",
     "text": [
      "+-------------------------+-------------+\n",
      "|        Attribute        |    Value    |\n",
      "+-------------------------+-------------+\n",
      "|        World Name       | Hello World |\n",
      "|        Goal Nodes       |    ['G']    |\n",
      "|          Width          |     3286    |\n",
      "|          Height         |     1080    |\n",
      "|       Node Radius       |      20     |\n",
      "|        Font Size        |      12     |\n",
      "|        Font Bold        |     True    |\n",
      "|       Font Italic       |     True    |\n",
      "|        Node Color       |     gray    |\n",
      "|        Goal Color       |    green    |\n",
      "|      Line Thickness     |      2      |\n",
      "|       Arrow Shape       | (10, 12, 5) |\n",
      "| Button Background Color |   #7FC7D9   |\n",
      "| Button Foreground Color |   #332941   |\n",
      "|        Text Font        |  Helvetica  |\n",
      "|        Text Size        |      24     |\n",
      "|       Text Weight       |     bold    |\n",
      "|       Button Text       | Start Agent |\n",
      "+-------------------------+-------------+\n"
     ]
    }
   ],
   "source": [
    "print(graphWorld.aboutWorld())"
   ]
  },
  {
   "cell_type": "markdown",
   "metadata": {},
   "source": [
    "## Help\n",
    "If you want to know more information about any method, or variable, you can simple use the `help()` function to get more information. Or you can visit our official [website](https://harrionparrix.github.io/traversecraft/index.html) to get more information."
   ]
  },
  {
   "cell_type": "code",
   "execution_count": 8,
   "metadata": {},
   "outputs": [
    {
     "name": "stdout",
     "output_type": "stream",
     "text": [
      "Help on CreateGraphWorld in module traverseCraft.world object:\n",
      "\n",
      "class CreateGraphWorld(builtins.object)\n",
      " |  CreateGraphWorld(worldName: str, worldInfo: dict, radius: int = 20, fontSize: int = 12, fontBold: bool = True, fontItalic: bool = True, nodeColor: str = 'gray', goalColor: str = 'green', width: int = 3286, height: int = 1080, lineThickness: int = 2, arrowShape: tuple = (10, 12, 5), buttonBgColor: str = '#7FC7D9', buttonFgColor: str = '#332941', textFont: str = 'Helvetica', textSize: int = 24, textWeight: str = 'bold', buttonText: str = 'Start Agent', logoPath: str = None)\n",
      " |  \n",
      " |  Class representing a graph world.\n",
      " |  \n",
      " |  \n",
      " |  Parameters:\n",
      " |      - worldName (str): The name of the world.\n",
      " |      - _worldInfo (dict): A dictionary containing information about the world.\n",
      " |          - 'goals' (list): List of goal node IDs.\n",
      " |          - 'adj' (dict): Adjacency list representing graph connections.\n",
      " |          - 'position' (dict): Dictionary of node positions with node IDs as keys.\n",
      " |          - 'edges' (dict, optional): Dictionary of edge value. Default each edge is assigned a value of 1.\n",
      " |          - 'vals' (dict, optional): Dictionary of node values. Default each node is assigned the value same as its ID.\n",
      " |      - radius (int): The radius of the nodes in the world visualization. Default is 20.\n",
      " |      - fontSize (int): The font size of the node labels. Default is 12.\n",
      " |      - fontBold (bool): Whether to use bold font for the node labels. Default is True.\n",
      " |      - fontItalic (bool): Whether to use italic font for the node labels. Default is True.\n",
      " |      - nodeColor (str): The color of the nodes. Default is \"gray\".\n",
      " |      - goalColor (str): The color of the goal nodes. Default is \"green\".\n",
      " |      - width (int): The width of the world visualization canvas. Default is SCREEN_WIDTH.\n",
      " |      - height (int): The height of the world visualization canvas. Default is SCREEN_HEIGHT.\n",
      " |      - lineThickness (int): The thickness of the lines connecting the nodes. Default is 2.\n",
      " |      - arrowShape (tuple): The shape of the arrows indicating the direction of the edges. Default is (10, 12, 5).\n",
      " |      - buttonBgColor (str): The background color of the buttons. Default is \"#7FC7D9\".\n",
      " |      - buttonFgColor (str): The foreground color of the buttons. Default is \"#332941\".\n",
      " |      - textFont (str): The font family of the button text. Default is \"Helvetica\".\n",
      " |      - textSize (int): The font size of the button text. Default is 24.\n",
      " |      - textWeight (str): The font weight of the button text. Default is \"bold\".\n",
      " |      - buttonText (str): The text displayed on the buttons. Default is \"Start Agent\".\n",
      " |      - logoPath (str, optional): The file path to the logo image. Default is traverseCraft logo.\n",
      " |  \n",
      " |  Attributes:\n",
      " |      - worldID (str): Class identifier for the graph world.\n",
      " |      - _worldName (str): The name of the world.\n",
      " |      - _worldInfo (dict): Dictionary containing the world's information.\n",
      " |      - _graphRootId (str): The ID of the root node.\n",
      " |      - _goalIds (list): List of goal node IDs.\n",
      " |      - _position (dict): Dictionary of node positions.\n",
      " |      - _width (int): The width of the visualization canvas.\n",
      " |      - _height (int): The height of the visualization canvas.\n",
      " |      - _radius (int): The radius of the nodes.\n",
      " |      - _nodeColor (str): The color of the nodes.\n",
      " |      - _goalColor (str): The color of the goal nodes.\n",
      " |      - _fontSize (int): The font size of the node labels.\n",
      " |      - _fontBold (bool): Whether the node labels are bold.\n",
      " |      - _fontItalic (bool): Whether the node labels are italic.\n",
      " |      - _lineThickness (int): The thickness of the lines connecting the nodes.\n",
      " |      - _arrowShape (tuple): The shape of the arrows indicating the direction of the edges.\n",
      " |      - _logoPath (str): The file path to the logo image.\n",
      " |      - _root (Tk): The root Tkinter object.\n",
      " |      - _canvas (Canvas): The canvas object for drawing the world.\n",
      " |      - nodeMap (dict): Dictionary mapping node IDs to canvas objects.\n",
      " |      - _visited (dict): Dictionary tracking visited nodes.\n",
      " |      - _agent: The agent in the world.\n",
      " |      - _nodeObj (dict): Dictionary mapping node IDs to node objects.\n",
      " |      - _nodeTextObj (dict): Dictionary mapping node IDs to node label objects.\n",
      " |      - _buttonBgColor (str): The background color of the buttons.\n",
      " |      - _buttonFgColor (str): The foreground color of the buttons.\n",
      " |      - _buttonText (str): The text displayed on the buttons.\n",
      " |      - _textFont (str): The font family of the button text.\n",
      " |      - _textSize (int): The font size of the button text.\n",
      " |      - _textWeight (str): The font weight of the button text.\n",
      " |  \n",
      " |  Methods defined here:\n",
      " |  \n",
      " |  __init__(self, worldName: str, worldInfo: dict, radius: int = 20, fontSize: int = 12, fontBold: bool = True, fontItalic: bool = True, nodeColor: str = 'gray', goalColor: str = 'green', width: int = 3286, height: int = 1080, lineThickness: int = 2, arrowShape: tuple = (10, 12, 5), buttonBgColor: str = '#7FC7D9', buttonFgColor: str = '#332941', textFont: str = 'Helvetica', textSize: int = 24, textWeight: str = 'bold', buttonText: str = 'Start Agent', logoPath: str = None)\n",
      " |      Initializes the Graph World.\n",
      " |  \n",
      " |  __str__(self)\n",
      " |      Describes the attributes of the world.\n",
      " |      \n",
      " |      Parameters:\n",
      " |          None\n",
      " |      \n",
      " |      Returns:\n",
      " |          str: The attributes of the world.\n",
      " |  \n",
      " |  aboutWorld(self)\n",
      " |      Describes the attributes of the world.\n",
      " |      \n",
      " |      Parameters: \n",
      " |          None\n",
      " |      Returns:\n",
      " |          str: The attributes of the world.\n",
      " |  \n",
      " |  changeNodeColor(self, nodeId, color)\n",
      " |      Changes the color of a node in the graph.\n",
      " |      \n",
      " |      Args:\n",
      " |          nodeId (int): The ID of the node to change the color of.\n",
      " |          color (str): The new color to set for the node.\n",
      " |      \n",
      " |      Returns:\n",
      " |          None\n",
      " |  \n",
      " |  changeNodeText(self, nodeId, newText)\n",
      " |      Changes the text of a node in the graph.\n",
      " |      \n",
      " |      Parameters:\n",
      " |          nodeId (int): The ID of the node to change the text of.\n",
      " |          newText (str): The new text to set for the node.\n",
      " |      \n",
      " |      Returns:\n",
      " |  \n",
      " |  constructWorld(self)\n",
      " |      Constructs the graph world.\n",
      " |      \n",
      " |      Parameters:\n",
      " |          self (World): The World instance.\n",
      " |      \n",
      " |      Returns:\n",
      " |          None\n",
      " |  \n",
      " |  getNode(self, nodeId)\n",
      " |      Returns the pointer to the node with the given nodeId.\n",
      " |      \n",
      " |      Parameters:\n",
      " |          nodeId: The ID of the node to retrieve the pointer for.\n",
      " |      \n",
      " |      Returns:\n",
      " |          Node: The pointer to the node with the given nodeId.\n",
      " |  \n",
      " |  setAgent(self, agent)\n",
      " |      Set the agent for the world.\n",
      " |      \n",
      " |      Parameters:\n",
      " |          agent (Agent): The agent to be set.\n",
      " |      \n",
      " |      Returns:\n",
      " |          None\n",
      " |  \n",
      " |  showWorld(self)\n",
      " |      Displays the world.\n",
      " |      \n",
      " |      Parameters:\n",
      " |          None\n",
      " |      Returns:\n",
      " |          None\n",
      " |  \n",
      " |  summary(self)\n",
      " |      Generates a summary of the world.\n",
      " |      \n",
      " |      Parameters:\n",
      " |          None\n",
      " |      Returns:\n",
      " |          str: The summary of the world.\n",
      " |  \n",
      " |  ----------------------------------------------------------------------\n",
      " |  Data descriptors defined here:\n",
      " |  \n",
      " |  __dict__\n",
      " |      dictionary for instance variables (if defined)\n",
      " |  \n",
      " |  __weakref__\n",
      " |      list of weak references to the object (if defined)\n",
      " |  \n",
      " |  ----------------------------------------------------------------------\n",
      " |  Data and other attributes defined here:\n",
      " |  \n",
      " |  worldID = 'GRAPHWORLD'\n",
      "\n"
     ]
    }
   ],
   "source": [
    "help(graphWorld)"
   ]
  },
  {
   "cell_type": "markdown",
   "metadata": {},
   "source": [
    "# Let's create our agent which will interact with the world.\n",
    "here also we will create a simple graph agent with the default settings."
   ]
  },
  {
   "cell_type": "code",
   "execution_count": 9,
   "metadata": {},
   "outputs": [],
   "source": [
    "graphAgent = GraphAgent(agentName=\"Graph Agent\", world=graphWorld)"
   ]
  },
  {
   "cell_type": "markdown",
   "metadata": {},
   "source": [
    "## Let's Set the Start State\n",
    "Unlike from the tree world, here the agent can select any node as it's start state. By default the library chooses the first node in the `nodeMap` as the start state, but it will be a problem every time we run the simulation as we are not sure which will be the start state. Thus it's always recommended to set the start state. We will use the `setStartState()` method of the agent class to set the start state of the agent."
   ]
  },
  {
   "cell_type": "code",
   "execution_count": 10,
   "metadata": {},
   "outputs": [],
   "source": [
    "graphAgent.setStartState('A')"
   ]
  },
  {
   "cell_type": "markdown",
   "metadata": {},
   "source": [
    "## Let's see some basic information about our `graph Agent`.\n",
    "you can use a simple `print()` statement or you can use the builtin function `aboutAgent()` to get the agent information as a string."
   ]
  },
  {
   "cell_type": "code",
   "execution_count": 11,
   "metadata": {},
   "outputs": [
    {
     "name": "stdout",
     "output_type": "stream",
     "text": [
      "+---------------+-------------+\n",
      "|   Attribute   |    Value    |\n",
      "+---------------+-------------+\n",
      "|   Agent Name  | Graph Agent |\n",
      "|  Agent Color  |     blue    |\n",
      "|   World Name  | Hello World |\n",
      "|    World ID   |  GRAPHWORLD |\n",
      "| Start Node ID |      A      |\n",
      "+---------------+-------------+\n"
     ]
    }
   ],
   "source": [
    "print(graphAgent)"
   ]
  },
  {
   "cell_type": "code",
   "execution_count": 12,
   "metadata": {},
   "outputs": [
    {
     "name": "stdout",
     "output_type": "stream",
     "text": [
      "+---------------+-------------+\n",
      "|   Attribute   |    Value    |\n",
      "+---------------+-------------+\n",
      "|   Agent Name  | Graph Agent |\n",
      "|  Agent Color  |     blue    |\n",
      "|   World Name  | Hello World |\n",
      "|    World ID   |  GRAPHWORLD |\n",
      "| Start Node ID |      A      |\n",
      "+---------------+-------------+\n"
     ]
    }
   ],
   "source": [
    "print(graphAgent.aboutAgent())"
   ]
  },
  {
   "cell_type": "markdown",
   "metadata": {},
   "source": [
    "# Connect Our Agent with the World\n",
    "Now, we have our world ready and constructed and we also have our agent ready, but the world doesn't know the agent and the agent does't know the world. We have to connect the agent with the world. We will use the `.setAgent()` method of the world to connect the agent with the world. "
   ]
  },
  {
   "cell_type": "code",
   "execution_count": 13,
   "metadata": {},
   "outputs": [],
   "source": [
    "graphWorld.setAgent(graphAgent)"
   ]
  },
  {
   "cell_type": "markdown",
   "metadata": {},
   "source": [
    "# Algorithm\n",
    "Now, we have connected the agent with the world, but we did not told the agent what to do in the world.\n",
    "\n",
    "The agent have a method `setAlgorithmCallBack()` which takes a function as a argument.\n",
    "This function will be run during the simulation.\n",
    "> **Note:** *Make sure that the function you are passing in the `setAlgorithmCallBack()` method does not take any argument.*\n",
    "\n",
    "## Let's first create our function which will tell the agent what to do.\n",
    "We will use the `moveAgent()` method of the agent class to move the agent.\n",
    "\n",
    "We will start from node 'A', which is the root node as well as the start position of the agent by default and we will move the agent in the following manner:\n",
    "\n",
    "'A' -> 'B' -> 'C' -> 'B' -> 'D' -> 'E' -> 'F' -> 'E' -> 'G'"
   ]
  },
  {
   "cell_type": "code",
   "execution_count": 14,
   "metadata": {},
   "outputs": [],
   "source": [
    "def whatToDo():\n",
    "    print(\"I am a Graph Agent and I am going to move around the world!\")\n",
    "    graphAgent.moveAgent('B')\n",
    "    graphAgent.moveAgent('C')\n",
    "    graphAgent.moveAgent('B')\n",
    "    graphAgent.moveAgent('D')\n",
    "    graphAgent.moveAgent('E')\n",
    "    graphAgent.moveAgent('F')\n",
    "    graphAgent.moveAgent('E')\n",
    "    graphAgent.moveAgent('G')\n",
    "    print(\"I am done moving around the world!\")"
   ]
  },
  {
   "cell_type": "markdown",
   "metadata": {},
   "source": [
    "### We are ready with our algorithm\n",
    "Lets set the algorithm to tell the agent what to do. "
   ]
  },
  {
   "cell_type": "code",
   "execution_count": 15,
   "metadata": {},
   "outputs": [],
   "source": [
    "graphAgent.setAlgorithmCallBack(whatToDo)"
   ]
  },
  {
   "cell_type": "markdown",
   "metadata": {},
   "source": [
    "# Display the world and Start the Simulation!\n",
    "Now, we are all set. We will first show the world using the `showWorld()` method and then on the world there is a button at the bottom to start the simulation.\n",
    "> **Warning:** *Always make sure that the method `showWorld()` is called when you are ready to simulate, because after this no change can be made on the world or the agent.*"
   ]
  },
  {
   "cell_type": "code",
   "execution_count": 16,
   "metadata": {},
   "outputs": [
    {
     "name": "stdout",
     "output_type": "stream",
     "text": [
      "I am a Graph Agent and I am going to move around the world!\n",
      "I am done moving around the world!\n"
     ]
    }
   ],
   "source": [
    "graphWorld.showWorld()"
   ]
  },
  {
   "cell_type": "markdown",
   "metadata": {},
   "source": [
    "In the window You can see the heatmap forming where the agent is going. This is the default function of the agent, but you can switch off this feature also by simple changing the value of `heatMapView` to `False` during the tree agent object creation.\n",
    "\n",
    "You can also see there is a slight delay in the movement of the agent, this is also a feature of agent, you can control the delay while calling the `moveAgent` method by the parameter `delay`.\n",
    "\n",
    "## Let's see the summary\n",
    "\n",
    "The agent and the world keep some records, that we can generate and see.\n",
    "\n",
    "### The Agent have information about the time taken to run the whole simulation.\n",
    "We can see this information using the `summary` method."
   ]
  },
  {
   "cell_type": "code",
   "execution_count": 17,
   "metadata": {},
   "outputs": [
    {
     "name": "stdout",
     "output_type": "stream",
     "text": [
      "+--------------+---------------------------+\n",
      "|  Attribute   |           Value           |\n",
      "+--------------+---------------------------+\n",
      "|  Start Time  | Thu, 20 Jun 2024 06:17:30 |\n",
      "|   End Time   | Thu, 20 Jun 2024 06:17:38 |\n",
      "| Elapsed Time |         8.029 sec         |\n",
      "+--------------+---------------------------+\n"
     ]
    }
   ],
   "source": [
    "print(graphAgent.summary())"
   ]
  },
  {
   "cell_type": "markdown",
   "metadata": {},
   "source": [
    "### The World have information about the visited count after the whole simulation.\n",
    "We can see this information using the `summary` method."
   ]
  },
  {
   "cell_type": "code",
   "execution_count": 18,
   "metadata": {},
   "outputs": [
    {
     "name": "stdout",
     "output_type": "stream",
     "text": [
      "+---------+------------------+\n",
      "| Node ID | Number of Visits |\n",
      "+---------+------------------+\n",
      "|    G    |        1         |\n",
      "|    E    |        2         |\n",
      "|    F    |        1         |\n",
      "|    C    |        1         |\n",
      "|    D    |        1         |\n",
      "|    B    |        2         |\n",
      "|    A    |        1         |\n",
      "+---------+------------------+\n"
     ]
    }
   ],
   "source": [
    "print(graphWorld.summary())"
   ]
  },
  {
   "cell_type": "markdown",
   "metadata": {},
   "source": [
    "## Help\n",
    "If you want to know more information about any method, or variable, you can simple use the `help()` function to get more information. Or you can visit our official [website](https://harrionparrix.github.io/traversecraft/index.html) to get more information."
   ]
  },
  {
   "cell_type": "code",
   "execution_count": 19,
   "metadata": {},
   "outputs": [
    {
     "name": "stdout",
     "output_type": "stream",
     "text": [
      "Help on GraphAgent in module traverseCraft.agent object:\n",
      "\n",
      "class GraphAgent(builtins.object)\n",
      " |  GraphAgent(world, agentName: str, agentColor: str = 'blue', startNodeId=None, heatMapView: bool = True, heatMapColor: str = '#FFA732', heatGradient: float = 0.05)\n",
      " |  \n",
      " |  The Graph Agent class.\n",
      " |  \n",
      " |  Parameters:\n",
      " |      world (CreateGridWorld): The world object that the agent belongs to.\n",
      " |      agentName (str): The name of the agent.\n",
      " |      agentColor (str, optional): The color of the agent. Defaults to \"blue\".\n",
      " |      heatMapView (bool, optional): Flag indicating whether to enable heat map view. Defaults to True.\n",
      " |      heatMapColor (str, optional): The color of the heat map. Defaults to \"#FFA732\".\n",
      " |      heatGradient (float, optional): The gradient of the heat map. Defaults to 0.05.\n",
      " |  \n",
      " |  Attributes:\n",
      " |      _worldObj (CreateGraphWorld): The graph world object.\n",
      " |      _worldID (str): The ID of the world.\n",
      " |      _root (Tk): The root Tkinter object from the graph world.\n",
      " |      _agentName (str): The name of the agent.\n",
      " |      _agentColor (str): The color of the agent.\n",
      " |      _heatMapView (bool): Indicates if the heat map view is enabled.\n",
      " |      _heatMapColor (str): The color of the heat map.\n",
      " |      _heatMapBaseColor (str): The base color of the heat map.\n",
      " |      _heatGradient (float): The gradient value for the heat map.\n",
      " |      _currentNode (GraphNode): The current node the agent is on.\n",
      " |      _graphRoot (GraphNode): The root node of the graph.\n",
      " |      algorithmCallBack (function): Callback function for the agent's algorithm.\n",
      " |      _startTime (float): The start time of the agent.\n",
      " |      _endTime (float): The end time of the agent.\n",
      " |  \n",
      " |  Methods defined here:\n",
      " |  \n",
      " |  __init__(self, world, agentName: str, agentColor: str = 'blue', startNodeId=None, heatMapView: bool = True, heatMapColor: str = '#FFA732', heatGradient: float = 0.05)\n",
      " |      Initialize self.  See help(type(self)) for accurate signature.\n",
      " |  \n",
      " |  __str__(self)\n",
      " |      Describes the attributes of the world.\n",
      " |      \n",
      " |      Parameters:\n",
      " |          None\n",
      " |      \n",
      " |      Returns:\n",
      " |          function(): The attributes of the world.\n",
      " |  \n",
      " |  aboutAgent(self)\n",
      " |      Prints information about the agent.\n",
      " |      \n",
      " |      Parameters:\n",
      " |          None\n",
      " |      \n",
      " |      Returns:\n",
      " |          str: A string containing information about the agent.\n",
      " |  \n",
      " |  checkGoalState(self, nodeId)\n",
      " |      Check if the given node is a goal state.\n",
      " |      \n",
      " |      Parameters:\n",
      " |          node: The ID of the node to be checked.\n",
      " |      \n",
      " |      Returns:\n",
      " |          bool: True if the node is a goal state, False otherwise.\n",
      " |  \n",
      " |  getHeatMapColor(self, value: float)\n",
      " |      Returns the color for a given value on a heat map.\n",
      " |      \n",
      " |      Parameters:\n",
      " |          value (float): The value to map to a color on the heat map.\n",
      " |      \n",
      " |      Returns:\n",
      " |          tuple: The RGB color value for the given value on the heat map.\n",
      " |  \n",
      " |  moveAgent(self, nodeId, delay: int = 1)\n",
      " |      Moves the agent to the specified node.\n",
      " |      \n",
      " |      Args:\n",
      " |          nodeId: The ID of the node to which the agent should be moved.\n",
      " |          delay (optional): The delay (in seconds) before moving to the next node. Default is 1 second.\n",
      " |      \n",
      " |      Returns:\n",
      " |          bool: True if the agent was successfully moved to the node, False otherwise.\n",
      " |  \n",
      " |  runAlgorithm(self)\n",
      " |      Executes the algorithm callback function.\n",
      " |      \n",
      " |      Raises:\n",
      " |          ValueError: If the algorithm callback function is not set.\n",
      " |  \n",
      " |  setAlgorithmCallBack(self, algorithmCallBack)\n",
      " |      Set the callback function for the algorithm.\n",
      " |      \n",
      " |      Parameters:\n",
      " |      algorithmCallBack (function): The callback function to be set.\n",
      " |      \n",
      " |      Returns:\n",
      " |      None\n",
      " |  \n",
      " |  setStartState(self, nodeId)\n",
      " |      Sets the start state of the agent to the specified node.\n",
      " |      \n",
      " |      Args:\n",
      " |          nodeId: The ID of the node to set as the start state.\n",
      " |      \n",
      " |      Raises:\n",
      " |          ValueError: If the specified node ID is invalid.\n",
      " |  \n",
      " |  summary(self)\n",
      " |      Returns a summary of the agent run.\n",
      " |      \n",
      " |      Parameters: \n",
      " |          None\n",
      " |      Returns:\n",
      " |          str: A summary of the agent run.\n",
      " |  \n",
      " |  ----------------------------------------------------------------------\n",
      " |  Data descriptors defined here:\n",
      " |  \n",
      " |  __dict__\n",
      " |      dictionary for instance variables (if defined)\n",
      " |  \n",
      " |  __weakref__\n",
      " |      list of weak references to the object (if defined)\n",
      "\n"
     ]
    }
   ],
   "source": [
    "help(graphAgent)"
   ]
  },
  {
   "cell_type": "markdown",
   "metadata": {},
   "source": [
    "This covers the basic of how to create a simple Graph World and Graph Agent. How to connect the created agent with the world and how to run a simple algorithm to simulate the agent on the world.\n",
    "\n",
    "Next, in the `Advance Section` we will learn about how to use some advance features and settings to customize the world according to your need.\n",
    "\n",
    "Thanks!"
   ]
  }
 ],
 "metadata": {
  "kernelspec": {
   "display_name": "Python 3",
   "language": "python",
   "name": "python3"
  },
  "language_info": {
   "codemirror_mode": {
    "name": "ipython",
    "version": 3
   },
   "file_extension": ".py",
   "mimetype": "text/x-python",
   "name": "python",
   "nbconvert_exporter": "python",
   "pygments_lexer": "ipython3",
   "version": "3.8.19"
  }
 },
 "nbformat": 4,
 "nbformat_minor": 2
}
